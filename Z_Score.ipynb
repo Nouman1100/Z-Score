{
  "nbformat": 4,
  "nbformat_minor": 0,
  "metadata": {
    "colab": {
      "name": "Z Score.ipynb",
      "provenance": []
    },
    "kernelspec": {
      "name": "python3",
      "display_name": "Python 3"
    },
    "language_info": {
      "name": "python"
    }
  },
  "cells": [
    {
      "cell_type": "markdown",
      "source": [
        "**Step 1 :Libraries Import**"
      ],
      "metadata": {
        "id": "u9nIeJ7g2an6"
      }
    },
    {
      "cell_type": "code",
      "execution_count": 5,
      "metadata": {
        "id": "-JYpLwyr1WTf"
      },
      "outputs": [],
      "source": [
        "import numpy as np\n",
        "import pandas as pd\n",
        "import scipy.stats as stats"
      ]
    },
    {
      "cell_type": "markdown",
      "source": [
        "**Step 2: Create an array of values**"
      ],
      "metadata": {
        "id": "VCdRUY-z2gsi"
      }
    },
    {
      "cell_type": "code",
      "source": [
        "data = np.array([6,5,5,4,7,8,9,22,15,36])"
      ],
      "metadata": {
        "id": "3MeP6Q8W2pqa"
      },
      "execution_count": 6,
      "outputs": []
    },
    {
      "cell_type": "markdown",
      "source": [
        "**Step 3: Calculate the z-scores for each value in array...**"
      ],
      "metadata": {
        "id": "BUL7pbiS3D3A"
      }
    },
    {
      "cell_type": "code",
      "source": [
        "stats.zscore(data)"
      ],
      "metadata": {
        "colab": {
          "base_uri": "https://localhost:8080/"
        },
        "id": "X2Yn35Fv3BRo",
        "outputId": "222392cb-e94f-4c06-e249-6d46dbbbf880"
      },
      "execution_count": 9,
      "outputs": [
        {
          "output_type": "execute_result",
          "data": {
            "text/plain": [
              "array([-0.59039627, -0.69397456, -0.69397456, -0.79755285, -0.48681797,\n",
              "       -0.38323968, -0.27966139,  1.06685641,  0.34180836,  2.5169525 ])"
            ]
          },
          "metadata": {},
          "execution_count": 9
        }
      ]
    }
  ]
}